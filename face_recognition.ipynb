{
 "cells": [
  {
   "cell_type": "code",
   "execution_count": 1,
   "metadata": {},
   "outputs": [],
   "source": [
    "import cv2"
   ]
  },
  {
   "cell_type": "code",
   "execution_count": 2,
   "metadata": {},
   "outputs": [],
   "source": [
    "image = cv2.imread('n_2.jpg')"
   ]
  },
  {
   "cell_type": "code",
   "execution_count": 3,
   "metadata": {},
   "outputs": [],
   "source": [
    "model = cv2.CascadeClassifier('face.xml')\n",
    "face = model.detectMultiScale(image)"
   ]
  },
  {
   "cell_type": "code",
   "execution_count": 4,
   "metadata": {},
   "outputs": [],
   "source": [
    "x = face[0][0]\n",
    "y = face[0][1]\n",
    "w = face[0][2]\n",
    "h = face[0][3]"
   ]
  },
  {
   "cell_type": "code",
   "execution_count": 5,
   "metadata": {},
   "outputs": [
    {
     "data": {
      "text/plain": [
       "array([[[253, 253, 253],\n",
       "        [253, 253, 253],\n",
       "        [254, 254, 254],\n",
       "        ...,\n",
       "        [237, 231, 232],\n",
       "        [237, 231, 232],\n",
       "        [237, 231, 232]],\n",
       "\n",
       "       [[253, 253, 253],\n",
       "        [253, 253, 253],\n",
       "        [254, 254, 254],\n",
       "        ...,\n",
       "        [237, 231, 232],\n",
       "        [237, 231, 232],\n",
       "        [237, 231, 232]],\n",
       "\n",
       "       [[253, 253, 253],\n",
       "        [253, 253, 253],\n",
       "        [254, 254, 254],\n",
       "        ...,\n",
       "        [237, 231, 232],\n",
       "        [237, 231, 232],\n",
       "        [237, 231, 232]],\n",
       "\n",
       "       ...,\n",
       "\n",
       "       [[140, 152, 216],\n",
       "        [140, 152, 216],\n",
       "        [140, 152, 216],\n",
       "        ...,\n",
       "        [196, 199, 220],\n",
       "        [196, 199, 220],\n",
       "        [195, 198, 219]],\n",
       "\n",
       "       [[137, 153, 220],\n",
       "        [137, 153, 220],\n",
       "        [138, 154, 221],\n",
       "        ...,\n",
       "        [195, 200, 221],\n",
       "        [194, 199, 220],\n",
       "        [193, 198, 219]],\n",
       "\n",
       "       [[137, 153, 220],\n",
       "        [137, 153, 220],\n",
       "        [138, 154, 221],\n",
       "        ...,\n",
       "        [195, 200, 221],\n",
       "        [194, 199, 220],\n",
       "        [193, 198, 219]]], dtype=uint8)"
      ]
     },
     "execution_count": 5,
     "metadata": {},
     "output_type": "execute_result"
    }
   ],
   "source": [
    "cv2.rectangle(image, (x, y), (x+w, y+h), (255, 0, 0), thickness=5)"
   ]
  },
  {
   "cell_type": "code",
   "execution_count": 6,
   "metadata": {},
   "outputs": [],
   "source": [
    "cv2.imshow('image', image)\n",
    "cv2.waitKey(0)\n",
    "cv2.destroyAllWindows()"
   ]
  },
  {
   "cell_type": "code",
   "execution_count": null,
   "metadata": {},
   "outputs": [],
   "source": []
  }
 ],
 "metadata": {
  "kernelspec": {
   "display_name": "Python 3",
   "language": "python",
   "name": "python3"
  },
  "language_info": {
   "codemirror_mode": {
    "name": "ipython",
    "version": 3
   },
   "file_extension": ".py",
   "mimetype": "text/x-python",
   "name": "python",
   "nbconvert_exporter": "python",
   "pygments_lexer": "ipython3",
   "version": "3.12.5"
  }
 },
 "nbformat": 4,
 "nbformat_minor": 2
}
